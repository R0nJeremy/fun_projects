{
 "cells": [
  {
   "cell_type": "code",
   "execution_count": 1,
   "metadata": {},
   "outputs": [],
   "source": [
    "import numpy as np"
   ]
  },
  {
   "cell_type": "markdown",
   "metadata": {},
   "source": [
    "### Specific constants of the System\n",
    "The main constants are defined first"
   ]
  },
  {
   "cell_type": "code",
   "execution_count": 23,
   "metadata": {},
   "outputs": [],
   "source": [
    "BYTE_SIZE = 64\n",
    "RAM_SIZE = 4000\n",
    "LESS = -1\n",
    "EQUAL = 0\n",
    "GREATER = 1"
   ]
  },
  {
   "cell_type": "markdown",
   "metadata": {},
   "source": [
    "### Word with an arbitrary size\n",
    "Here we specify the MIX machine Word structure, with an arbitrary number of Bytes and a sign. We implement it as a numpy array of Size+1 number of integers. \n",
    "\n",
    "The first (zeros) integer is the Sign \n",
    "\n",
    "`Word[0]=sign`"
   ]
  },
  {
   "cell_type": "code",
   "execution_count": 17,
   "metadata": {},
   "outputs": [],
   "source": [
    "class GenericWord:\n",
    "    def __init__(self, size) -> None:\n",
    "        self.__value__ = np.zeros((size+1), dtype=np.int64)\n",
    "        self.__value__[0] = 1 # initialize the sign as \"+\"\n",
    "        self.__size__ = size\n",
    "\n",
    "    @property\n",
    "    def size(self):\n",
    "        return self.__size__\n",
    "\n",
    "    @property\n",
    "    def sign(self):\n",
    "        if self.__value__[0] == 0:\n",
    "            return \"-\"\n",
    "        else:\n",
    "            return \"+\"\n",
    "\n",
    "    # * Sets the specified Byte to a Value\n",
    "    def set_byte(self, byte, val):\n",
    "        byte_overflow = (byte > self.__size__) or (byte < 1)\n",
    "        if byte_overflow:\n",
    "            raise Exception(\"Overflow: byte number has to be in range from 1 to Word.size\")\n",
    "        \n",
    "        value = val % BYTE_SIZE\n",
    "        self.__value__[byte] = value\n",
    "    \n",
    "    @sign.setter\n",
    "    def sign(self, sign):\n",
    "        if sign == 0:\n",
    "            self.__value__[0] = 0\n",
    "        else:\n",
    "            self.__value__[0] = 1\n",
    "\n",
    "    def __repr__(self) -> str:\n",
    "        if self.__value__[0] == 0:\n",
    "            repr = \"- \"\n",
    "        else:\n",
    "            repr = \"+ \"\n",
    "        \n",
    "        for i in range(1, self.__size__ + 1):\n",
    "            repr += str(self.__value__[i]) + \" \"\n",
    "\n",
    "        return repr\n",
    "    \n",
    "    def get_field(self, L, R):\n",
    "        R_field_overflow = (R < 0) or (R > self.__size__)\n",
    "        L_field_overflow = (L < 0) or (L > R)\n",
    "        field_overflow = L_field_overflow or R_field_overflow\n",
    "        if field_overflow:\n",
    "            raise Exception(\"Field overflow: the field must satisfy the conditions: 0 <= L <= R <= Word.size\")\n",
    "        \n",
    "        return self.__value__[L: R+1]\n",
    "\n",
    "\n",
    "class Word(GenericWord):\n",
    "    def __init__(self) -> None:\n",
    "        super().__init__(5)\n",
    "\n",
    "\n",
    "class AddressWord(GenericWord):\n",
    "    def __init__(self) -> None:\n",
    "        super().__init__(2)\n",
    "\n",
    "    @property\n",
    "    def address(self):\n",
    "        return self.__value__[1]*BYTE_SIZE + self.__value__[2]\n",
    "\n",
    "\n",
    "class Command(Word):\n",
    "    def __init__(self, name) -> None:\n",
    "        super().__init__()\n",
    "        self.__name__ = name\n",
    "\n",
    "    def __repr__(self) -> str:\n",
    "        repr = self.__name__ + \": \"\n",
    "        if self.__value__[0] == 0:\n",
    "            repr += \"- \"\n",
    "        else:\n",
    "            repr += \"+ \"\n",
    "        \n",
    "        for i in range(1, self.__size__ + 1):\n",
    "            repr += str(self.__value__[i]) + \" \"\n",
    "\n",
    "        return repr\n",
    "\n",
    "    @property\n",
    "    def name(self):\n",
    "        return self.__name__\n",
    "\n",
    "    @property\n",
    "    def code(self):\n",
    "        return self.__value__[6]\n",
    "    \n",
    "    @property\n",
    "    def field(self):\n",
    "        return self.__value__[4]\n",
    "    \n",
    "    @property\n",
    "    def index(self):\n",
    "        return self.__value__[3]\n",
    "    \n",
    "    @property\n",
    "    def address(self):\n",
    "        abs_address = self.__value__[1]*BYTE_SIZE + self.__value__[2]\n",
    "        if self.sign == \"-\":\n",
    "            factor = -1\n",
    "        else:\n",
    "            factor = 1\n",
    "        return factor * abs_address"
   ]
  },
  {
   "cell_type": "markdown",
   "metadata": {},
   "source": [
    "### The machine core"
   ]
  },
  {
   "cell_type": "code",
   "execution_count": 34,
   "metadata": {},
   "outputs": [],
   "source": [
    "class MIX:\n",
    "    def __init__(self):\n",
    "        self.__rA__ = Word()\n",
    "        self.__rX__ = Word()\n",
    "        self.__rI1__ = AddressWord()\n",
    "        self.__rI2__ = AddressWord()\n",
    "        self.__rI3__ = AddressWord()\n",
    "        self.__rI4__ = AddressWord()\n",
    "        self.__rI5__ = AddressWord()\n",
    "        self.__rI6__ = AddressWord()\n",
    "        self.__rJ__ = AddressWord()\n",
    "        self.__overflow_trigger__ = False # or True\n",
    "        self.__comparison_flag__ = LESS # or EQUAL or GREATER\n",
    "        \n",
    "        self.__memory__ = np.ndarray((RAM_SIZE), dtype=object)\n",
    "        for i in range(RAM_SIZE):\n",
    "            self.__memory__[i] = Word()\n",
    "\n",
    "        # TODO Input-Output devices\n",
    "\n",
    "    @property\n",
    "    def rA(self):\n",
    "        return self.__rA__\n",
    "\n",
    "    @property\n",
    "    def rX(self):\n",
    "        return self.__rX__\n",
    "\n",
    "    @property\n",
    "    def rI1(self):\n",
    "        return self.__rI1__\n",
    "\n",
    "    @property\n",
    "    def rI2(self):\n",
    "        return self.__rI2__\n",
    "\n",
    "    @property\n",
    "    def rI3(self):\n",
    "        return self.__rI3__\n",
    "    \n",
    "    @property\n",
    "    def rI4(self):\n",
    "        return self.__rI4__\n",
    "\n",
    "    @property\n",
    "    def rI5(self):\n",
    "        return self.__rI5__\n",
    "\n",
    "    @property\n",
    "    def rI6(self):\n",
    "        return self.__rI6__\n",
    "\n",
    "    @property\n",
    "    def rJ(self):\n",
    "        return self.__rJ__\n",
    "\n",
    "    @property\n",
    "    def overflow(self):\n",
    "        return self.__overflow_trigger__\n",
    "\n",
    "    @property\n",
    "    def cmp_flag(self):\n",
    "        return self.__comparison_flag__\n",
    "    \n",
    "    \n",
    "    # * commands\n",
    "    def command(self, cmd):\n",
    "        C = cmd.code\n",
    "        F = cmd.field\n",
    "        I = cmd.index\n",
    "        A = cmd.address        \n"
   ]
  },
  {
   "cell_type": "code",
   "execution_count": 19,
   "metadata": {},
   "outputs": [
    {
     "data": {
      "text/plain": [
       "LDA: + 0 0 0 0 0 "
      ]
     },
     "execution_count": 19,
     "metadata": {},
     "output_type": "execute_result"
    }
   ],
   "source": [
    "c = Command('LDA')\n",
    "c"
   ]
  },
  {
   "cell_type": "code",
   "execution_count": 20,
   "metadata": {},
   "outputs": [
    {
     "data": {
      "text/plain": [
       "0"
      ]
     },
     "execution_count": 20,
     "metadata": {},
     "output_type": "execute_result"
    }
   ],
   "source": [
    "c.address"
   ]
  },
  {
   "cell_type": "code",
   "execution_count": 21,
   "metadata": {},
   "outputs": [
    {
     "data": {
      "text/plain": [
       "+ 0 0 "
      ]
     },
     "execution_count": 21,
     "metadata": {},
     "output_type": "execute_result"
    }
   ],
   "source": [
    "I = AddressWord()\n",
    "I"
   ]
  },
  {
   "cell_type": "code",
   "execution_count": 22,
   "metadata": {},
   "outputs": [
    {
     "data": {
      "text/plain": [
       "0"
      ]
     },
     "execution_count": 22,
     "metadata": {},
     "output_type": "execute_result"
    }
   ],
   "source": [
    "I.address"
   ]
  },
  {
   "cell_type": "code",
   "execution_count": 33,
   "metadata": {},
   "outputs": [
    {
     "data": {
      "text/plain": [
       "array([+ 0 0 0 0 0 , + 0 0 0 0 0 , + 0 0 0 0 0 , + 0 0 0 0 0 ,\n",
       "       + 0 0 0 0 0 ], dtype=object)"
      ]
     },
     "execution_count": 33,
     "metadata": {},
     "output_type": "execute_result"
    }
   ],
   "source": [
    "a = np.ndarray((5), dtype=object)\n",
    "for i in range(5):\n",
    "    a[i] = Word()\n",
    "\n",
    "a"
   ]
  },
  {
   "cell_type": "code",
   "execution_count": null,
   "metadata": {},
   "outputs": [],
   "source": []
  }
 ],
 "metadata": {
  "kernelspec": {
   "display_name": "ds",
   "language": "python",
   "name": "python3"
  },
  "language_info": {
   "codemirror_mode": {
    "name": "ipython",
    "version": 3
   },
   "file_extension": ".py",
   "mimetype": "text/x-python",
   "name": "python",
   "nbconvert_exporter": "python",
   "pygments_lexer": "ipython3",
   "version": "3.11.4"
  },
  "orig_nbformat": 4
 },
 "nbformat": 4,
 "nbformat_minor": 2
}
