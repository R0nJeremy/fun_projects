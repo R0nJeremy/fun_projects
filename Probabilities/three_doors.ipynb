{
 "cells": [
  {
   "cell_type": "code",
   "execution_count": 102,
   "metadata": {},
   "outputs": [],
   "source": [
    "import numpy as np"
   ]
  },
  {
   "cell_type": "code",
   "execution_count": 103,
   "metadata": {},
   "outputs": [],
   "source": [
    "class Door:\n",
    "    def __init__(self, prize, id):\n",
    "        self.__prize = prize\n",
    "        self.__id = id\n",
    "    \n",
    "    def open_door(self):\n",
    "        return self.__prize\n",
    "\n",
    "    def __repr__(self):\n",
    "        return f'A door with ID: {self.__id}'"
   ]
  },
  {
   "cell_type": "code",
   "execution_count": 157,
   "metadata": {},
   "outputs": [],
   "source": [
    "class Game:\n",
    "    def __init__(self):    \n",
    "        self.__doors = np.empty((0), dtype=object)        \n",
    "    \n",
    "    def new_game(self):\n",
    "        D1 = Door(1, 1)\n",
    "        D2 = Door(0, 2)\n",
    "        D3 = Door(0, 3)\n",
    "        self.__doors = np.append(self.__doors, D1)\n",
    "        self.__doors = np.append(self.__doors, D2)\n",
    "        self.__doors = np.append(self.__doors, D3)\n",
    "        np.random.shuffle(self.__doors)\n",
    "    \n",
    "    def play_game(self):\n",
    "        chosen_door_id = np.random.choice(len(self.__doors))\n",
    "        remaining_doors = np.delete(self.__doors, chosen_door_id)\n",
    "\n",
    "        # always switch door\n",
    "        empty_door_id_candidate = np.random.choice(2)\n",
    "        while remaining_doors[empty_door_id_candidate].open_door() == 1:\n",
    "            empty_door_id_candidate = np.random.choice(2)\n",
    "              \n",
    "        last_door = np.delete(remaining_doors, empty_door_id_candidate)\n",
    "        return last_door[0].open_door()"
   ]
  },
  {
   "cell_type": "code",
   "execution_count": 170,
   "metadata": {},
   "outputs": [],
   "source": [
    "N_simulations = 10000\n",
    "win_perc = 0"
   ]
  },
  {
   "cell_type": "code",
   "execution_count": 171,
   "metadata": {},
   "outputs": [
    {
     "name": "stdout",
     "output_type": "stream",
     "text": [
      "0.6648\n"
     ]
    }
   ],
   "source": [
    "for _ in range(N_simulations):\n",
    "    G = Game()\n",
    "    G.new_game()\n",
    "    win_perc += G.play_game()    \n",
    "\n",
    "win_perc /= N_simulations\n",
    "print(win_perc)"
   ]
  },
  {
   "cell_type": "code",
   "execution_count": null,
   "metadata": {},
   "outputs": [],
   "source": []
  }
 ],
 "metadata": {
  "kernelspec": {
   "display_name": "sci-3.9",
   "language": "python",
   "name": "python3"
  },
  "language_info": {
   "codemirror_mode": {
    "name": "ipython",
    "version": 3
   },
   "file_extension": ".py",
   "mimetype": "text/x-python",
   "name": "python",
   "nbconvert_exporter": "python",
   "pygments_lexer": "ipython3",
   "version": "3.9.18"
  }
 },
 "nbformat": 4,
 "nbformat_minor": 2
}
