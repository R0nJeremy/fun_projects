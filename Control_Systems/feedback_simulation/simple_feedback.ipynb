{
 "cells": [
  {
   "cell_type": "code",
   "execution_count": 1,
   "metadata": {},
   "outputs": [],
   "source": [
    "import numpy as np\n",
    "import matplotlib.pyplot as plt"
   ]
  },
  {
   "cell_type": "markdown",
   "metadata": {},
   "source": [
    "# Feedback Simulation\n",
    "We have two systems, *system A* and *system B* that are interconnected in a closed loop. Both systems have one input channel and one output channel, labeled as $x_A, x_B$ for the inputs, and $y_A, y_B$ for the outputs.\n",
    "Since the systems are interconnected in a closed loop, the IO variables are related to each other. Formally, we can write\n",
    "$$ \n",
    "    y_A = f(x_A, \\dot{x}_A, t), \\;\\;\\;\\; y_B = g(x_B, \\dot{x}_B, t),\n",
    "$$\n",
    "where $f$ and $g$ are control functions, $t$ is time. Since, we have a direct coupling, we have $y_A = x_B$ and $y_B = x_A$, hence\n",
    "$$\n",
    "    x_B = f(x_A, \\dot{x}_A, t), \\;\\;\\;\\; x_A = g(x_B, \\dot{x}_B, t).\n",
    "$$\n",
    "At the time $t=0$, we have initial conditions\n",
    "$$\n",
    "    x_A = x_A^{(0)}, \\;\\;\\; x_B = x_B^{(0)}, \\;\\;\\; \\dot{x}_A = \\dot{x}_A^{(0)}, \\;\\;\\; \\dot{x}_B = \\dot{x}_B^{(0)}.\n",
    "$$\n",
    "\n",
    "### Thermostat and Heat Control\n",
    "In our first simualted scenario, the system A is a thermostat. It has a system, whose temperature needs to be stabilized, the heat source with consant power $Q$, (temperature gained per unit time), \n",
    "and a relay, to turn the heat source ON and OFF. \n",
    "The input signal $x_A$ in this case is binary, $x_A = 0$ - turn off the heat source, and $x_A = 1$ - turn on the heat source. The environment temperature is $T_0$. The output signal $y_A$ is the current temperature of the \n",
    "thermostat. The second system, measures the temperature of the thermostat, compares it with the target temperature $T_{target}$, and makes a decision: if the measured temperature is within the tolerance window\n",
    "$(T \\geq T_{target}-\\Delta T)$, then its output is $y_B=0$, a.k.a. turn off the heat source. If the measured temperature is too low $(T < T_{target}-\\Delta T)$, then it sends signal $y_B=1$, a.k.a. turn on the heat source.\n",
    "\n",
    "Assume that the heat dissipates proportional to the temperature difference $Q_{dis}=\\alpha (T-T_0)$, where $T$ is the current temperature of the thermostat, $\\alpha$ is constant, $Q_{dis}$ it the energy of the thermostat\n",
    "that dissipated per unit time. When the heat source is OFF, the temperature changes according to\n",
    "$$ \n",
    "    \\frac{dT}{dt} = - \\alpha (T-T_0),\n",
    "$$\n",
    "When the heat source is turned on, we write\n",
    "$$\n",
    "    \\frac{dT}{dt} = Q - \\alpha (T-T_0),\n",
    "$$"
   ]
  },
  {
   "cell_type": "code",
   "execution_count": 92,
   "metadata": {},
   "outputs": [],
   "source": [
    "TIME_STEP = 0.01    # time step of a single cycle\n",
    "\n",
    "class Thermostat:\n",
    "    def __init__(self, T_init: float) -> None:\n",
    "        self.T = T_init    # current temperature of the thermostat\n",
    "        \n",
    "        self.Q = 15              # power of the heat source\n",
    "        self.alpha = 1.0        # dissipation constant        \n",
    "        self.T0 = 10            # environment temperature\n",
    "        \n",
    "    def run(self, x: int) -> float:\n",
    "        if x == 0:\n",
    "            self.T += -self.alpha*(self.T - self.T0)*TIME_STEP\n",
    "        elif x == 1:\n",
    "            self.T += (self.Q - self.alpha*(self.T - self.T0))*TIME_STEP\n",
    "        \n",
    "        return self.T\n",
    "        \n",
    "        \n",
    "class Relay:\n",
    "    def __init__(self) -> None:\n",
    "        self.state = 0\n",
    "        self.T_target = 30      # target temperature\n",
    "        self.T_window = 1.0     # window of tolerance: (T_target +/- T_window) is considered as the correct temperature\n",
    "\n",
    "    def run(self, T_measured: float) -> int:\n",
    "        if T_measured > self.T_target + self.T_window:\n",
    "            self.state = 0\n",
    "        elif T_measured < self.T_target - self.T_window:\n",
    "            self.state = 1\n",
    "        \n",
    "        return self.state"
   ]
  },
  {
   "cell_type": "code",
   "execution_count": 93,
   "metadata": {},
   "outputs": [],
   "source": [
    "thermostat = Thermostat(40)\n",
    "switch = Relay()\n",
    "\n",
    "t_array  = np.arange(0,15,TIME_STEP)\n",
    "yA_array = np.ndarray((t_array.size), dtype=np.float64)\n",
    "yB_array = np.ndarray((t_array.size), dtype=np.float64)"
   ]
  },
  {
   "cell_type": "code",
   "execution_count": 94,
   "metadata": {},
   "outputs": [],
   "source": [
    "yA = thermostat.T\n",
    "for idx,_ in np.ndenumerate(t_array):\n",
    "    yB = switch.run(yA)\n",
    "    yA = thermostat.run(yB)\n",
    "    yA_array[idx] = yA\n",
    "    yB_array[idx] = yB"
   ]
  },
  {
   "cell_type": "code",
   "execution_count": 95,
   "metadata": {},
   "outputs": [
    {
     "data": {
      "text/plain": [
       "[<matplotlib.lines.Line2D at 0x24262e98a40>]"
      ]
     },
     "execution_count": 95,
     "metadata": {},
     "output_type": "execute_result"
    },
    {
     "data": {
      "image/png": "[encoded data removed]",
      "text/plain": [
       "<Figure size 640x480 with 1 Axes>"
      ]
     },
     "metadata": {},
     "output_type": "display_data"
    }
   ],
   "source": [
    "plt.plot(t_array, yA_array)"
   ]
  },
  {
   "cell_type": "code",
   "execution_count": 96,
   "metadata": {},
   "outputs": [
    {
     "data": {
      "text/plain": [
       "[<matplotlib.lines.Line2D at 0x24262f52db0>]"
      ]
     },
     "execution_count": 96,
     "metadata": {},
     "output_type": "execute_result"
    },
    {
     "data": {
      "image/png": "[encoded data removed]",
      "text/plain": [
       "<Figure size 640x480 with 1 Axes>"
      ]
     },
     "metadata": {},
     "output_type": "display_data"
    }
   ],
   "source": [
    "plt.plot(t_array, yB_array)"
   ]
  },
  {
   "cell_type": "code",
   "execution_count": null,
   "metadata": {},
   "outputs": [],
   "source": []
  }
 ],
 "metadata": {
  "kernelspec": {
   "display_name": "sci",
   "language": "python",
   "name": "python3"
  },
  "language_info": {
   "codemirror_mode": {
    "name": "ipython",
    "version": 3
   },
   "file_extension": ".py",
   "mimetype": "text/x-python",
   "name": "python",
   "nbconvert_exporter": "python",
   "pygments_lexer": "ipython3",
   "version": "3.12.1"
  }
 },
 "nbformat": 4,
 "nbformat_minor": 2
}
